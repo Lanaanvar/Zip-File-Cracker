{
 "cells": [
  {
   "cell_type": "code",
   "execution_count": 31,
   "metadata": {},
   "outputs": [],
   "source": [
    "import pyzipper\n",
    "import string\n",
    "from itertools import product\n",
    "import os"
   ]
  },
  {
   "cell_type": "code",
   "execution_count": 32,
   "metadata": {},
   "outputs": [
    {
     "name": "stdout",
     "output_type": "stream",
     "text": [
      "True\n"
     ]
    }
   ],
   "source": [
    "def fileHeaderReader():\n",
    "    with open (\"cc_test.zip\", \"rb\") as file:\n",
    "        file_header = file.read(4)\n",
    "        return file_header== b'\\x50\\x4B\\x03\\x04'\n",
    "    \n",
    "print(fileHeaderReader())"
   ]
  },
  {
   "cell_type": "code",
   "execution_count": 33,
   "metadata": {},
   "outputs": [],
   "source": [
    "import zipfile\n",
    "def extract_all(zip_file, password):\n",
    "    try:\n",
    "        zip_file.extractall(pwd=password.encode())\n",
    "        return True\n",
    "    except zipfile.BadZipFile:\n",
    "        print(\"The file is not a zip file or is corrupted.\")\n",
    "        return False\n",
    "    except zipfile.LargeZipFile:\n",
    "        print(\"The zip file is too large to handle.\")\n",
    "        return False\n",
    "    except RuntimeError:\n",
    "        # This exception is raised for wrong passwords\n",
    "        return False\n",
    "    except Exception as e:\n",
    "        print(f\"An unexpected error occurred: {e}\")\n",
    "        return False"
   ]
  },
  {
   "cell_type": "code",
   "execution_count": 34,
   "metadata": {},
   "outputs": [],
   "source": [
    "def password_dict(zip_file_path, password_file):\n",
    "    with pyzipper.AESZipFile(zip_file_path) as zip_file:\n",
    "        with open(password_file, \"r\") as dict_file:\n",
    "            passwords = dict_file.readlines()\n",
    "            for password in passwords:\n",
    "                password = password.strip()  # Remove newline characters and whitespace\n",
    "                # print(f\"Trying passord : {password}\")\n",
    "                if extract_all(zip_file, password):\n",
    "                    print(f\"The password is: {password}\")\n",
    "                    return  # Exit function if password is found\n",
    "    \n",
    "    print(\"No password matches\")"
   ]
  },
  {
   "cell_type": "code",
   "execution_count": 35,
   "metadata": {},
   "outputs": [
    {
     "name": "stdout",
     "output_type": "stream",
     "text": [
      "The password is: bfht\n"
     ]
    }
   ],
   "source": [
    "def generate_password(zip_file_path, length):\n",
    "\n",
    "    password_path = \"generated_passwords.txt\"\n",
    "\n",
    "    characters = string.ascii_lowercase\n",
    "    list_pwd = [''.join(comb) for comb in product(characters, repeat = length)]\n",
    "\n",
    "    \n",
    "    \n",
    "    with open(password_path, \"w\") as pwd_file:\n",
    "        \n",
    "        file_size = os.path.getsize(password_path)\n",
    "        if file_size == 0:\n",
    "            for each in list_pwd:\n",
    "                pwd_file.write(each + '\\n')\n",
    "        pwd_file.close()\n",
    "        password_dict(zip_file_path, password_path)\n",
    "\n",
    "zip_file_path = \"cc_test_2.zip\"\n",
    "# password_file = \"generated_passwords.txt\"\n",
    "generate_password(zip_file_path, 4)"
   ]
  }
 ],
 "metadata": {
  "kernelspec": {
   "display_name": ".venv",
   "language": "python",
   "name": "python3"
  },
  "language_info": {
   "codemirror_mode": {
    "name": "ipython",
    "version": 3
   },
   "file_extension": ".py",
   "mimetype": "text/x-python",
   "name": "python",
   "nbconvert_exporter": "python",
   "pygments_lexer": "ipython3",
   "version": "3.11.7"
  }
 },
 "nbformat": 4,
 "nbformat_minor": 2
}
